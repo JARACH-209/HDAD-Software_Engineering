{
  "nbformat": 4,
  "nbformat_minor": 0,
  "metadata": {
    "colab": {
      "name": "HF_Classification_Model.ipynb",
      "provenance": [],
      "collapsed_sections": [],
      "authorship_tag": "ABX9TyNc8lyeAyCnoGHqTtibXsAy",
      "include_colab_link": true
    },
    "kernelspec": {
      "name": "python3",
      "display_name": "Python 3"
    }
  },
  "cells": [
    {
      "cell_type": "markdown",
      "metadata": {
        "id": "view-in-github",
        "colab_type": "text"
      },
      "source": [
        "<a href=\"https://colab.research.google.com/github/JARACH-209/Software_Engineering_Project/blob/master/HF_Classification_Model.ipynb\" target=\"_parent\"><img src=\"https://colab.research.google.com/assets/colab-badge.svg\" alt=\"Open In Colab\"/></a>"
      ]
    },
    {
      "cell_type": "code",
      "metadata": {
        "id": "dbekP5s3z_xJ"
      },
      "source": [
        "import pandas as pd\r\n",
        "import numpy as np\r\n",
        "import matplotlib.pyplot as plt\r\n",
        "from sklearn import preprocessing\r\n",
        "from sklearn.model_selection import cross_validate\r\n",
        "from sklearn.ensemble import RandomForestClassifier\r\n",
        "from imblearn.over_sampling import ADASYN\r\n",
        "import pickle\r\n",
        "plt.style.use(\"seaborn\")\r\n",
        "# Function to run 10 fold cross validation\r\n",
        "\r\n",
        "def cross_validation(clf,X,Y):\r\n",
        "    cv_rf = cross_validate(clf,X,Y,scoring=('accuracy','roc_auc','recall','precision'),cv = 10,n_jobs=-1)\r\n",
        "    print(\"Average CV Accuracy Test \\t%0.2f\"%(cv_rf['test_accuracy'].mean()*100))\r\n",
        "    print(\"Average CV ROC-AUC Score \\t%0.2f\"%(cv_rf['test_roc_auc'].mean()*100))\r\n",
        "    print(\"Average CV Recall Score \\t%0.2f\"%(cv_rf['test_recall'].mean()*100))\r\n",
        "    print(\"Average CV Precision Score \\t%0.2f\"%(cv_rf['test_precision'].mean()*100))\r\n",
        "    print(\"-----------------------------\")\r\n",
        "    print(\"Best Accuracy CV : \\t\\t%0.2f\"%max(cv_rf['test_accuracy']*100))\r\n",
        "    print(\"Best ROC CV : \\t\\t\\t%0.2f\"%max(cv_rf['test_roc_auc']*100))\r\n",
        "    print(\"Best Recall CV : \\t\\t%0.2f\"%max(cv_rf['test_recall']*100))\r\n",
        "    print(\"Best Precision CV : \\t\\t%0.2f\"%max(cv_rf['test_precision']*100))\r\n",
        "\r\n",
        "def scaling_X(X_fit,X_transform):\r\n",
        "    sscaler = preprocessing.StandardScaler().fit(X_fit)\r\n",
        "    X = sscaler.transform(X_transform)\r\n",
        "    return X"
      ],
      "execution_count": null,
      "outputs": []
    },
    {
      "cell_type": "code",
      "metadata": {
        "id": "VLMgzG5w118J"
      },
      "source": [
        "df_red = pd.read_csv(\"/content/HF_Classification_Reduced_Features.csv\")\r\n",
        "\r\n",
        "#clipping the outliers\r\n",
        "df_red.drop(columns=['Unnamed: 0','Killip.grade'],inplace=True)\r\n",
        "df_red['brain.natriuretic.peptide'].clip(upper=3000,inplace=True)\r\n",
        "df_red['creatinine.enzymatic.method'].clip(upper=600,inplace=True)\r\n",
        "df_red['creatine.kinase'].clip(upper=1000,inplace=True)\r\n",
        "\r\n",
        "# Log transformation\r\n",
        "for each in df_red.columns:\r\n",
        "    if max(df_red[each]) > 10 and each != 'LVEF':\r\n",
        "        df_red[each] = np.log(df_red[each])"
      ],
      "execution_count": null,
      "outputs": []
    },
    {
      "cell_type": "code",
      "metadata": {
        "colab": {
          "base_uri": "https://localhost:8080/"
        },
        "id": "xtKgjxni2Y53",
        "outputId": "35904866-cc3f-442d-ced7-4eed71f77755"
      },
      "source": [
        "df_red.shape"
      ],
      "execution_count": null,
      "outputs": [
        {
          "output_type": "execute_result",
          "data": {
            "text/plain": [
              "(495, 10)"
            ]
          },
          "metadata": {
            "tags": []
          },
          "execution_count": 4
        }
      ]
    },
    {
      "cell_type": "code",
      "metadata": {
        "id": "ozz2hFm62bZ4"
      },
      "source": [
        "df_red1 = df_red.copy()\r\n",
        "df_red1['LVEF'].clip(40,50,inplace = True)\r\n",
        "df_red1['LVEF'].replace(to_replace=40,value=int(0),inplace=True)\r\n",
        "df_red1['LVEF'].replace(to_replace=50,value=int(1),inplace=True)\r\n",
        "# index of points with LVEF 41-49\r\n",
        "mref_index = df_red1.loc[df_red1['LVEF'] >1].index\r\n",
        "#selecting the rows having EF other than 0 or 1\r\n",
        "HFmrEF_data = df_red1.loc[df_red1.LVEF >1]\r\n",
        "df_red1 = df_red1.drop(index=mref_index)  \r\n",
        "Y_pr = df_red1['LVEF'].to_numpy().astype(int)\r\n",
        "X_pr = pd.DataFrame(df_red1.drop(columns = ['LVEF'])).to_numpy()"
      ],
      "execution_count": null,
      "outputs": []
    },
    {
      "cell_type": "code",
      "metadata": {
        "colab": {
          "base_uri": "https://localhost:8080/"
        },
        "id": "8lFnJAhT2hzR",
        "outputId": "eef9ce85-da50-4eb3-8c11-b00e55c2ab5f"
      },
      "source": [
        "print(X_pr.shape)\r\n",
        "print(\"Number of HFpEF\",len(df_red.loc[df_red['LVEF']>49]))\r\n",
        "print(\"Number of HFrEF\",len(df_red.loc[df_red['LVEF']<41]))\r\n",
        "print(\"Number of HFmrEF\",len(HFmrEF_data))"
      ],
      "execution_count": null,
      "outputs": [
        {
          "output_type": "stream",
          "text": [
            "(384, 9)\n",
            "Number of HFpEF 267\n",
            "Number of HFrEF 117\n",
            "Number of HFmrEF 111\n"
          ],
          "name": "stdout"
        }
      ]
    },
    {
      "cell_type": "code",
      "metadata": {
        "id": "slCVEFj03jr0"
      },
      "source": [
        "# Oversampling HFrEF class\r\n",
        "ada = ADASYN()\r\n",
        "X_pr_aug, Y_pr_aug = ada.fit_resample(X_pr,Y_pr)"
      ],
      "execution_count": null,
      "outputs": []
    },
    {
      "cell_type": "code",
      "metadata": {
        "colab": {
          "base_uri": "https://localhost:8080/"
        },
        "id": "kqI1n7Cc3zSb",
        "outputId": "553e82b9-21c6-4026-c59e-9315ad59e804"
      },
      "source": [
        "rfmr = RandomForestClassifier(n_estimators=1000, n_jobs=-1)\r\n",
        "rfmr.fit(X_pr_aug,Y_pr_aug)\r\n",
        "cross_validation(rfmr,X_pr_aug,Y_pr_aug)"
      ],
      "execution_count": null,
      "outputs": [
        {
          "output_type": "stream",
          "text": [
            "Average CV Accuracy Test \t91.01\n",
            "Average CV ROC-AUC Score \t95.64\n",
            "Average CV Recall Score \t86.89\n",
            "Average CV Precision Score \t94.52\n",
            "-----------------------------\n",
            "Best Accuracy CV : \t\t94.44\n",
            "Best ROC CV : \t\t\t100.00\n",
            "Best Recall CV : \t\t96.30\n",
            "Best Precision CV : \t\t100.00\n"
          ],
          "name": "stdout"
        }
      ]
    },
    {
      "cell_type": "code",
      "metadata": {
        "colab": {
          "base_uri": "https://localhost:8080/",
          "height": 381
        },
        "id": "EM1zgd3R6lTL",
        "outputId": "7b2b483f-52f6-4ddc-f094-0fe2d31c6d61"
      },
      "source": [
        "plt.bar(range(len(rfmr.feature_importances_)),rfmr.feature_importances_)\r\n",
        "plt.title(\"Feature importances for Classifier\")"
      ],
      "execution_count": null,
      "outputs": [
        {
          "output_type": "execute_result",
          "data": {
            "text/plain": [
              "Text(0.5, 1.0, 'Feature importances for Classifier')"
            ]
          },
          "metadata": {
            "tags": []
          },
          "execution_count": 23
        },
        {
          "output_type": "display_data",
          "data": {
            "image/png": "[encoded data removed]",
            "text/plain": [
              "<Figure size 576x396 with 1 Axes>"
            ]
          },
          "metadata": {
            "tags": []
          }
        }
      ]
    },
    {
      "cell_type": "markdown",
      "metadata": {
        "id": "h79dDJpH7JRe"
      },
      "source": [
        "Predicting HFmrEF labels"
      ]
    },
    {
      "cell_type": "code",
      "metadata": {
        "colab": {
          "base_uri": "https://localhost:8080/"
        },
        "id": "l7WSub8_65i9",
        "outputId": "f036e84f-c650-4663-dc71-8f4648f48d00"
      },
      "source": [
        "X_mr = pd.DataFrame(HFmrEF_data.drop(columns=['LVEF'])).to_numpy()\r\n",
        "y_hfmref_rf = rfmr.predict(X_mr)\r\n",
        "print(\"Number of HFpEF\",len(np.where(y_hfmref_rf==1)[0]))\r\n",
        "print(\"Number of HFrEF\",len(np.where(y_hfmref_rf==0)[0]))"
      ],
      "execution_count": null,
      "outputs": [
        {
          "output_type": "stream",
          "text": [
            "Number of HFpEF 42\n",
            "Number of HFrEF 69\n"
          ],
          "name": "stdout"
        }
      ]
    },
    {
      "cell_type": "markdown",
      "metadata": {
        "id": "9xXYOJZo8PwK"
      },
      "source": [
        "Training the final Classifier"
      ]
    },
    {
      "cell_type": "code",
      "metadata": {
        "colab": {
          "base_uri": "https://localhost:8080/"
        },
        "id": "cMmxlxf78PUZ",
        "outputId": "7f84fa48-fa2d-41d3-ac5d-404e93ab4cf0"
      },
      "source": [
        "X_mrp = np.concatenate((X_pr_aug,X_mr))\r\n",
        "Y_mrp_rf = np.concatenate((Y_pr_aug,y_hfmref_rf))\r\n",
        "X_mrp = scaling_X(X_mrp,X_mrp)\r\n",
        "X_mrp.shape"
      ],
      "execution_count": null,
      "outputs": [
        {
          "output_type": "execute_result",
          "data": {
            "text/plain": [
              "(655, 9)"
            ]
          },
          "metadata": {
            "tags": []
          },
          "execution_count": 32
        }
      ]
    },
    {
      "cell_type": "code",
      "metadata": {
        "colab": {
          "base_uri": "https://localhost:8080/"
        },
        "id": "wRyh-Q9B8cF_",
        "outputId": "77e5c220-a90a-4e08-a457-2071df928aed"
      },
      "source": [
        "rf_clf = RandomForestClassifier(n_estimators=500,n_jobs=-1)\r\n",
        "cross_validation(rf_clf,X_mrp,Y_mrp_rf)"
      ],
      "execution_count": null,
      "outputs": [
        {
          "output_type": "stream",
          "text": [
            "Average CV Accuracy Test \t91.78\n",
            "Average CV ROC-AUC Score \t96.02\n",
            "Average CV Recall Score \t87.06\n",
            "Average CV Precision Score \t95.34\n",
            "-----------------------------\n",
            "Best Accuracy CV : \t\t98.46\n",
            "Best ROC CV : \t\t\t99.86\n",
            "Best Recall CV : \t\t96.77\n",
            "Best Precision CV : \t\t100.00\n"
          ],
          "name": "stdout"
        }
      ]
    },
    {
      "cell_type": "markdown",
      "metadata": {
        "id": "zYEjnK0K8-64"
      },
      "source": [
        "Saving the Trained Classifier"
      ]
    },
    {
      "cell_type": "code",
      "metadata": {
        "id": "4JbCEtqH9B6B"
      },
      "source": [
        "with open('HF_Classification_Model.pkl','wb') as f:\r\n",
        "    pickle.dump(rf_clf,f)"
      ],
      "execution_count": null,
      "outputs": []
    }
  ]
}